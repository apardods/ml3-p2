{
 "cells": [
  {
   "cell_type": "markdown",
   "metadata": {},
   "source": [
    "### **Práctica 2 - Machine Learning III**"
   ]
  },
  {
   "cell_type": "markdown",
   "metadata": {},
   "source": [
    "**Objetivo**: \n",
    "1. Analizar el conjunto de datos. \n",
    "2. Crear un sistema de recomendación de artistas para usuarios.\n",
    "   \n",
    "**Entregar**: Este cuaderno de jupyter con el trabajo hecho y comentado.\n",
    "\n",
    "**Datos**: \n",
    "\n",
    "Los datos suministrados ya han sido procesados, limpiados y estructurados para simplificar su manejo y análisis. \n",
    "\n",
    "Para aquellos interesados en explorar y manipular el conjunto de datos original, así como entender la estructura, podéis descargarlo directamente aquí: \n",
    "\n",
    "https://grouplens.org/datasets/hetrec-2011/."
   ]
  },
  {
   "cell_type": "code",
   "execution_count": 1,
   "metadata": {},
   "outputs": [
    {
     "name": "stderr",
     "output_type": "stream",
     "text": [
      "C:\\Users\\Rocío\\AppData\\Roaming\\Python\\Python311\\site-packages\\tqdm\\auto.py:21: TqdmWarning: IProgress not found. Please update jupyter and ipywidgets. See https://ipywidgets.readthedocs.io/en/stable/user_install.html\n",
      "  from .autonotebook import tqdm as notebook_tqdm\n"
     ]
    }
   ],
   "source": [
    "import numpy as np\n",
    "import pandas as pd\n",
    "import seaborn as sns\n",
    "import matplotlib.pyplot as plt\n",
    "import cornac\n",
    "from cornac.eval_methods import RatioSplit\n",
    "from cornac.models import UserKNN"
   ]
  },
  {
   "cell_type": "code",
   "execution_count": 2,
   "metadata": {},
   "outputs": [],
   "source": [
    "\n",
    "artists = pd.read_csv('./artists.dat', header=0, sep='\\t')\n",
    "user_tag_artist = pd.read_csv('./user_taggedartists.dat', header=0, sep='\\t')\n",
    "tags = pd.read_csv('tags.dat', header=0, sep='\\t', encoding='latin-1')\n",
    "users = pd.read_csv('user_artists.dat',header=0, sep='\\t')\n"
   ]
  },
  {
   "cell_type": "markdown",
   "metadata": {},
   "source": [
    "## EDA"
   ]
  },
  {
   "cell_type": "code",
   "execution_count": 3,
   "metadata": {},
   "outputs": [
    {
     "data": {
      "text/html": [
       "<div>\n",
       "<style scoped>\n",
       "    .dataframe tbody tr th:only-of-type {\n",
       "        vertical-align: middle;\n",
       "    }\n",
       "\n",
       "    .dataframe tbody tr th {\n",
       "        vertical-align: top;\n",
       "    }\n",
       "\n",
       "    .dataframe thead th {\n",
       "        text-align: right;\n",
       "    }\n",
       "</style>\n",
       "<table border=\"1\" class=\"dataframe\">\n",
       "  <thead>\n",
       "    <tr style=\"text-align: right;\">\n",
       "      <th></th>\n",
       "      <th>id</th>\n",
       "      <th>name</th>\n",
       "      <th>url</th>\n",
       "      <th>pictureURL</th>\n",
       "    </tr>\n",
       "  </thead>\n",
       "  <tbody>\n",
       "    <tr>\n",
       "      <th>0</th>\n",
       "      <td>1</td>\n",
       "      <td>MALICE MIZER</td>\n",
       "      <td>http://www.last.fm/music/MALICE+MIZER</td>\n",
       "      <td>http://userserve-ak.last.fm/serve/252/10808.jpg</td>\n",
       "    </tr>\n",
       "    <tr>\n",
       "      <th>1</th>\n",
       "      <td>2</td>\n",
       "      <td>Diary of Dreams</td>\n",
       "      <td>http://www.last.fm/music/Diary+of+Dreams</td>\n",
       "      <td>http://userserve-ak.last.fm/serve/252/3052066.jpg</td>\n",
       "    </tr>\n",
       "    <tr>\n",
       "      <th>2</th>\n",
       "      <td>3</td>\n",
       "      <td>Carpathian Forest</td>\n",
       "      <td>http://www.last.fm/music/Carpathian+Forest</td>\n",
       "      <td>http://userserve-ak.last.fm/serve/252/40222717...</td>\n",
       "    </tr>\n",
       "    <tr>\n",
       "      <th>3</th>\n",
       "      <td>4</td>\n",
       "      <td>Moi dix Mois</td>\n",
       "      <td>http://www.last.fm/music/Moi+dix+Mois</td>\n",
       "      <td>http://userserve-ak.last.fm/serve/252/54697835...</td>\n",
       "    </tr>\n",
       "    <tr>\n",
       "      <th>4</th>\n",
       "      <td>5</td>\n",
       "      <td>Bella Morte</td>\n",
       "      <td>http://www.last.fm/music/Bella+Morte</td>\n",
       "      <td>http://userserve-ak.last.fm/serve/252/14789013...</td>\n",
       "    </tr>\n",
       "  </tbody>\n",
       "</table>\n",
       "</div>"
      ],
      "text/plain": [
       "   id               name                                         url  \\\n",
       "0   1       MALICE MIZER       http://www.last.fm/music/MALICE+MIZER   \n",
       "1   2    Diary of Dreams    http://www.last.fm/music/Diary+of+Dreams   \n",
       "2   3  Carpathian Forest  http://www.last.fm/music/Carpathian+Forest   \n",
       "3   4       Moi dix Mois       http://www.last.fm/music/Moi+dix+Mois   \n",
       "4   5        Bella Morte        http://www.last.fm/music/Bella+Morte   \n",
       "\n",
       "                                          pictureURL  \n",
       "0    http://userserve-ak.last.fm/serve/252/10808.jpg  \n",
       "1  http://userserve-ak.last.fm/serve/252/3052066.jpg  \n",
       "2  http://userserve-ak.last.fm/serve/252/40222717...  \n",
       "3  http://userserve-ak.last.fm/serve/252/54697835...  \n",
       "4  http://userserve-ak.last.fm/serve/252/14789013...  "
      ]
     },
     "execution_count": 3,
     "metadata": {},
     "output_type": "execute_result"
    }
   ],
   "source": [
    "artists.head()\n"
   ]
  },
  {
   "cell_type": "code",
   "execution_count": 4,
   "metadata": {},
   "outputs": [
    {
     "data": {
      "text/html": [
       "<div>\n",
       "<style scoped>\n",
       "    .dataframe tbody tr th:only-of-type {\n",
       "        vertical-align: middle;\n",
       "    }\n",
       "\n",
       "    .dataframe tbody tr th {\n",
       "        vertical-align: top;\n",
       "    }\n",
       "\n",
       "    .dataframe thead th {\n",
       "        text-align: right;\n",
       "    }\n",
       "</style>\n",
       "<table border=\"1\" class=\"dataframe\">\n",
       "  <thead>\n",
       "    <tr style=\"text-align: right;\">\n",
       "      <th></th>\n",
       "      <th>userID</th>\n",
       "      <th>artistID</th>\n",
       "      <th>tagID</th>\n",
       "      <th>day</th>\n",
       "      <th>month</th>\n",
       "      <th>year</th>\n",
       "    </tr>\n",
       "  </thead>\n",
       "  <tbody>\n",
       "    <tr>\n",
       "      <th>0</th>\n",
       "      <td>2</td>\n",
       "      <td>52</td>\n",
       "      <td>13</td>\n",
       "      <td>1</td>\n",
       "      <td>4</td>\n",
       "      <td>2009</td>\n",
       "    </tr>\n",
       "    <tr>\n",
       "      <th>1</th>\n",
       "      <td>2</td>\n",
       "      <td>52</td>\n",
       "      <td>15</td>\n",
       "      <td>1</td>\n",
       "      <td>4</td>\n",
       "      <td>2009</td>\n",
       "    </tr>\n",
       "    <tr>\n",
       "      <th>2</th>\n",
       "      <td>2</td>\n",
       "      <td>52</td>\n",
       "      <td>18</td>\n",
       "      <td>1</td>\n",
       "      <td>4</td>\n",
       "      <td>2009</td>\n",
       "    </tr>\n",
       "    <tr>\n",
       "      <th>3</th>\n",
       "      <td>2</td>\n",
       "      <td>52</td>\n",
       "      <td>21</td>\n",
       "      <td>1</td>\n",
       "      <td>4</td>\n",
       "      <td>2009</td>\n",
       "    </tr>\n",
       "    <tr>\n",
       "      <th>4</th>\n",
       "      <td>2</td>\n",
       "      <td>52</td>\n",
       "      <td>41</td>\n",
       "      <td>1</td>\n",
       "      <td>4</td>\n",
       "      <td>2009</td>\n",
       "    </tr>\n",
       "  </tbody>\n",
       "</table>\n",
       "</div>"
      ],
      "text/plain": [
       "   userID  artistID  tagID  day  month  year\n",
       "0       2        52     13    1      4  2009\n",
       "1       2        52     15    1      4  2009\n",
       "2       2        52     18    1      4  2009\n",
       "3       2        52     21    1      4  2009\n",
       "4       2        52     41    1      4  2009"
      ]
     },
     "execution_count": 4,
     "metadata": {},
     "output_type": "execute_result"
    }
   ],
   "source": [
    "user_tag_artist.head()"
   ]
  },
  {
   "cell_type": "code",
   "execution_count": 5,
   "metadata": {},
   "outputs": [
    {
     "data": {
      "text/html": [
       "<div>\n",
       "<style scoped>\n",
       "    .dataframe tbody tr th:only-of-type {\n",
       "        vertical-align: middle;\n",
       "    }\n",
       "\n",
       "    .dataframe tbody tr th {\n",
       "        vertical-align: top;\n",
       "    }\n",
       "\n",
       "    .dataframe thead th {\n",
       "        text-align: right;\n",
       "    }\n",
       "</style>\n",
       "<table border=\"1\" class=\"dataframe\">\n",
       "  <thead>\n",
       "    <tr style=\"text-align: right;\">\n",
       "      <th></th>\n",
       "      <th>tagID</th>\n",
       "      <th>tagValue</th>\n",
       "    </tr>\n",
       "  </thead>\n",
       "  <tbody>\n",
       "    <tr>\n",
       "      <th>0</th>\n",
       "      <td>1</td>\n",
       "      <td>metal</td>\n",
       "    </tr>\n",
       "    <tr>\n",
       "      <th>1</th>\n",
       "      <td>2</td>\n",
       "      <td>alternative metal</td>\n",
       "    </tr>\n",
       "    <tr>\n",
       "      <th>2</th>\n",
       "      <td>3</td>\n",
       "      <td>goth rock</td>\n",
       "    </tr>\n",
       "    <tr>\n",
       "      <th>3</th>\n",
       "      <td>4</td>\n",
       "      <td>black metal</td>\n",
       "    </tr>\n",
       "    <tr>\n",
       "      <th>4</th>\n",
       "      <td>5</td>\n",
       "      <td>death metal</td>\n",
       "    </tr>\n",
       "  </tbody>\n",
       "</table>\n",
       "</div>"
      ],
      "text/plain": [
       "   tagID           tagValue\n",
       "0      1              metal\n",
       "1      2  alternative metal\n",
       "2      3          goth rock\n",
       "3      4        black metal\n",
       "4      5        death metal"
      ]
     },
     "execution_count": 5,
     "metadata": {},
     "output_type": "execute_result"
    }
   ],
   "source": [
    "tags.head()"
   ]
  },
  {
   "cell_type": "code",
   "execution_count": 6,
   "metadata": {},
   "outputs": [
    {
     "data": {
      "text/html": [
       "<div>\n",
       "<style scoped>\n",
       "    .dataframe tbody tr th:only-of-type {\n",
       "        vertical-align: middle;\n",
       "    }\n",
       "\n",
       "    .dataframe tbody tr th {\n",
       "        vertical-align: top;\n",
       "    }\n",
       "\n",
       "    .dataframe thead th {\n",
       "        text-align: right;\n",
       "    }\n",
       "</style>\n",
       "<table border=\"1\" class=\"dataframe\">\n",
       "  <thead>\n",
       "    <tr style=\"text-align: right;\">\n",
       "      <th></th>\n",
       "      <th>userID</th>\n",
       "      <th>artistID</th>\n",
       "      <th>weight</th>\n",
       "    </tr>\n",
       "  </thead>\n",
       "  <tbody>\n",
       "    <tr>\n",
       "      <th>0</th>\n",
       "      <td>2</td>\n",
       "      <td>51</td>\n",
       "      <td>13883</td>\n",
       "    </tr>\n",
       "    <tr>\n",
       "      <th>1</th>\n",
       "      <td>2</td>\n",
       "      <td>52</td>\n",
       "      <td>11690</td>\n",
       "    </tr>\n",
       "    <tr>\n",
       "      <th>2</th>\n",
       "      <td>2</td>\n",
       "      <td>53</td>\n",
       "      <td>11351</td>\n",
       "    </tr>\n",
       "    <tr>\n",
       "      <th>3</th>\n",
       "      <td>2</td>\n",
       "      <td>54</td>\n",
       "      <td>10300</td>\n",
       "    </tr>\n",
       "    <tr>\n",
       "      <th>4</th>\n",
       "      <td>2</td>\n",
       "      <td>55</td>\n",
       "      <td>8983</td>\n",
       "    </tr>\n",
       "  </tbody>\n",
       "</table>\n",
       "</div>"
      ],
      "text/plain": [
       "   userID  artistID  weight\n",
       "0       2        51   13883\n",
       "1       2        52   11690\n",
       "2       2        53   11351\n",
       "3       2        54   10300\n",
       "4       2        55    8983"
      ]
     },
     "execution_count": 6,
     "metadata": {},
     "output_type": "execute_result"
    }
   ],
   "source": [
    "users.head()"
   ]
  },
  {
   "cell_type": "code",
   "execution_count": 7,
   "metadata": {},
   "outputs": [
    {
     "name": "stdout",
     "output_type": "stream",
     "text": [
      "There are 17632 unique artists in the dataset.\n",
      "There are 1892 unique users in the dataset.\n"
     ]
    }
   ],
   "source": [
    "unique_artists = len(artists['id'].unique())\n",
    "print('There are', unique_artists, 'unique artists in the dataset.')\n",
    "\n",
    "unique_users = len(users['userID'].unique())\n",
    "print('There are', unique_users, 'unique users in the dataset.')"
   ]
  },
  {
   "cell_type": "code",
   "execution_count": 8,
   "metadata": {},
   "outputs": [
    {
     "name": "stdout",
     "output_type": "stream",
     "text": [
      "userID\n",
      "2       50\n",
      "1376    50\n",
      "1388    50\n",
      "1387    50\n",
      "1386    50\n",
      "        ..\n",
      "2085     1\n",
      "1758     1\n",
      "615      1\n",
      "1013     1\n",
      "1731     1\n",
      "Name: count, Length: 1892, dtype: int64\n"
     ]
    },
    {
     "data": {
      "image/png": "[encoded data removed]",
      "text/plain": [
       "<Figure size 640x480 with 1 Axes>"
      ]
     },
     "metadata": {},
     "output_type": "display_data"
    },
    {
     "data": {
      "image/png": "[encoded data removed]",
      "text/plain": [
       "<Figure size 640x480 with 1 Axes>"
      ]
     },
     "metadata": {},
     "output_type": "display_data"
    }
   ],
   "source": [
    "import matplotlib.pyplot as plt\n",
    "\n",
    "user_artist_count = users['userID'].value_counts()\n",
    "\n",
    "print(user_artist_count)\n",
    "\n",
    "plt.hist(user_artist_count, bins=25)\n",
    "plt.xlabel('Number of times user appears in dataset')\n",
    "plt.ylabel('Frequency')\n",
    "plt.title('Number of times a user appears in the dataset')\n",
    "plt.show()\n",
    "\n",
    "plt.boxplot(user_artist_count)\n",
    "plt.xlabel('Users')\n",
    "plt.ylabel('Number of times user appears in dataset')\n",
    "plt.title('Distribution of user appearances')\n",
    "plt.show()\n",
    "\n"
   ]
  },
  {
   "cell_type": "markdown",
   "metadata": {},
   "source": [
    "Analizando esta distribución, consideramos apropiado eliminar outliers, centrando el modelo en usuarios con mas artistas esuchados"
   ]
  },
  {
   "cell_type": "code",
   "execution_count": 9,
   "metadata": {},
   "outputs": [
    {
     "name": "stdout",
     "output_type": "stream",
     "text": [
      "0.033 of the data are outliers\n"
     ]
    }
   ],
   "source": [
    "Q1 = user_artist_count.quantile(0.25)\n",
    "Q3 = user_artist_count.quantile(0.75)\n",
    "IQR = Q3 - Q1\n",
    "\n",
    "lower_bound = Q1 - 1.5 * IQR\n",
    "upper_bound = Q3 + 1.5 * IQR\n",
    "\n",
    "outliers = user_artist_count[(user_artist_count < lower_bound) | (user_artist_count > upper_bound)]\n",
    "percentage_of_outliers = (len(outliers) / len(user_artist_count))\n",
    "\n",
    "percentage_of_outliers = round(percentage_of_outliers, 3)\n",
    "print(str(percentage_of_outliers) + \" of the data are outliers\")"
   ]
  },
  {
   "cell_type": "code",
   "execution_count": 10,
   "metadata": {},
   "outputs": [],
   "source": [
    "# Remove outliers\n",
    "users = users[users['userID'].isin(user_artist_count[user_artist_count < upper_bound].index)]"
   ]
  },
  {
   "cell_type": "code",
   "execution_count": 11,
   "metadata": {},
   "outputs": [
    {
     "data": {
      "text/html": [
       "<div>\n",
       "<style scoped>\n",
       "    .dataframe tbody tr th:only-of-type {\n",
       "        vertical-align: middle;\n",
       "    }\n",
       "\n",
       "    .dataframe tbody tr th {\n",
       "        vertical-align: top;\n",
       "    }\n",
       "\n",
       "    .dataframe thead th {\n",
       "        text-align: right;\n",
       "    }\n",
       "</style>\n",
       "<table border=\"1\" class=\"dataframe\">\n",
       "  <thead>\n",
       "    <tr style=\"text-align: right;\">\n",
       "      <th></th>\n",
       "      <th>artistID</th>\n",
       "      <th>weight</th>\n",
       "      <th>name</th>\n",
       "    </tr>\n",
       "  </thead>\n",
       "  <tbody>\n",
       "    <tr>\n",
       "      <th>63</th>\n",
       "      <td>289</td>\n",
       "      <td>249303</td>\n",
       "      <td>Britney Spears</td>\n",
       "    </tr>\n",
       "    <tr>\n",
       "      <th>95</th>\n",
       "      <td>344</td>\n",
       "      <td>56571</td>\n",
       "      <td>Taylor Swift</td>\n",
       "    </tr>\n",
       "    <tr>\n",
       "      <th>15</th>\n",
       "      <td>89</td>\n",
       "      <td>45774</td>\n",
       "      <td>Lady Gaga</td>\n",
       "    </tr>\n",
       "    <tr>\n",
       "      <th>62</th>\n",
       "      <td>288</td>\n",
       "      <td>31489</td>\n",
       "      <td>Rihanna</td>\n",
       "    </tr>\n",
       "    <tr>\n",
       "      <th>9</th>\n",
       "      <td>67</td>\n",
       "      <td>23383</td>\n",
       "      <td>Madonna</td>\n",
       "    </tr>\n",
       "    <tr>\n",
       "      <th>10</th>\n",
       "      <td>72</td>\n",
       "      <td>17545</td>\n",
       "      <td>Depeche Mode</td>\n",
       "    </tr>\n",
       "    <tr>\n",
       "      <th>162</th>\n",
       "      <td>533</td>\n",
       "      <td>16138</td>\n",
       "      <td>Oasis</td>\n",
       "    </tr>\n",
       "    <tr>\n",
       "      <th>20</th>\n",
       "      <td>157</td>\n",
       "      <td>14311</td>\n",
       "      <td>Michael Jackson</td>\n",
       "    </tr>\n",
       "    <tr>\n",
       "      <th>66</th>\n",
       "      <td>292</td>\n",
       "      <td>12789</td>\n",
       "      <td>Christina Aguilera</td>\n",
       "    </tr>\n",
       "    <tr>\n",
       "      <th>133</th>\n",
       "      <td>461</td>\n",
       "      <td>8518</td>\n",
       "      <td>Miley Cyrus</td>\n",
       "    </tr>\n",
       "  </tbody>\n",
       "</table>\n",
       "</div>"
      ],
      "text/plain": [
       "     artistID  weight                name\n",
       "63        289  249303      Britney Spears\n",
       "95        344   56571        Taylor Swift\n",
       "15         89   45774           Lady Gaga\n",
       "62        288   31489             Rihanna\n",
       "9          67   23383             Madonna\n",
       "10         72   17545        Depeche Mode\n",
       "162       533   16138               Oasis\n",
       "20        157   14311     Michael Jackson\n",
       "66        292   12789  Christina Aguilera\n",
       "133       461    8518         Miley Cyrus"
      ]
     },
     "execution_count": 11,
     "metadata": {},
     "output_type": "execute_result"
    }
   ],
   "source": [
    "top_artists = users.groupby('artistID')['weight'].sum()\n",
    "# add the name of the artists to the top_artists series\n",
    "top_artists = top_artists.reset_index()\n",
    "top_artists = top_artists.merge(artists[['id', 'name']], left_on='artistID', right_on='id')\n",
    "top_artists = top_artists.drop('id', axis=1)\n",
    "top_artists = top_artists.sort_values('weight', ascending=False)\n",
    "top_artists.head(10)\n",
    "\n"
   ]
  },
  {
   "cell_type": "markdown",
   "metadata": {},
   "source": [
    "En este apartado vemos que, una vez eliminados outliers, los artistas más escuchados se corresponden con los más populares de 2011. Hemos decidido eliminar a Britney Spears de la siguiente gráfica porque tiene un peso demasiado superior (5 veces más que el siguiente), y quita visibilidad a los mismos. Sin embargo, seguirá presente en los modelos."
   ]
  },
  {
   "cell_type": "code",
   "execution_count": 12,
   "metadata": {},
   "outputs": [],
   "source": [
    "#remove the artist with id 289 as 5 times larger than others\n",
    "users_nobs = users[users['artistID'] != 289]"
   ]
  },
  {
   "cell_type": "code",
   "execution_count": 13,
   "metadata": {},
   "outputs": [
    {
     "data": {
      "image/png": "[encoded data removed]",
      "text/plain": [
       "<Figure size 640x480 with 1 Axes>"
      ]
     },
     "metadata": {},
     "output_type": "display_data"
    }
   ],
   "source": [
    "users_nobs.groupby('artistID')['weight'].sum().plot(kind='hist', bins=25)\n",
    "plt.xlabel('Weight')\n",
    "plt.ylabel('Frequency')\n",
    "plt.yscale('log')\n",
    "plt.title('Distribution of Time by Artist')\n",
    "plt.show()\n"
   ]
  },
  {
   "cell_type": "markdown",
   "metadata": {},
   "source": [
    "## Sistema de Recomendacion"
   ]
  },
  {
   "cell_type": "markdown",
   "metadata": {},
   "source": [
    "Hemos hecho el siguiente modelo de recomendación memory-based como prueba para ver el comportamiento con este tipo de datos. Además, podremos aprovechar la función para recomendar para nuestro modelo implícito."
   ]
  },
  {
   "cell_type": "code",
   "execution_count": 15,
   "metadata": {},
   "outputs": [
    {
     "data": {
      "text/html": [
       "<div>\n",
       "<style scoped>\n",
       "    .dataframe tbody tr th:only-of-type {\n",
       "        vertical-align: middle;\n",
       "    }\n",
       "\n",
       "    .dataframe tbody tr th {\n",
       "        vertical-align: top;\n",
       "    }\n",
       "\n",
       "    .dataframe thead th {\n",
       "        text-align: right;\n",
       "    }\n",
       "</style>\n",
       "<table border=\"1\" class=\"dataframe\">\n",
       "  <thead>\n",
       "    <tr style=\"text-align: right;\">\n",
       "      <th></th>\n",
       "      <th>userID</th>\n",
       "      <th>artistID</th>\n",
       "      <th>weight</th>\n",
       "    </tr>\n",
       "  </thead>\n",
       "  <tbody>\n",
       "    <tr>\n",
       "      <th>1600</th>\n",
       "      <td>35</td>\n",
       "      <td>186</td>\n",
       "      <td>1</td>\n",
       "    </tr>\n",
       "    <tr>\n",
       "      <th>1601</th>\n",
       "      <td>35</td>\n",
       "      <td>212</td>\n",
       "      <td>4</td>\n",
       "    </tr>\n",
       "    <tr>\n",
       "      <th>1602</th>\n",
       "      <td>35</td>\n",
       "      <td>444</td>\n",
       "      <td>1</td>\n",
       "    </tr>\n",
       "    <tr>\n",
       "      <th>1603</th>\n",
       "      <td>35</td>\n",
       "      <td>920</td>\n",
       "      <td>1</td>\n",
       "    </tr>\n",
       "    <tr>\n",
       "      <th>1604</th>\n",
       "      <td>35</td>\n",
       "      <td>964</td>\n",
       "      <td>1</td>\n",
       "    </tr>\n",
       "  </tbody>\n",
       "</table>\n",
       "</div>"
      ],
      "text/plain": [
       "      userID  artistID  weight\n",
       "1600      35       186       1\n",
       "1601      35       212       4\n",
       "1602      35       444       1\n",
       "1603      35       920       1\n",
       "1604      35       964       1"
      ]
     },
     "execution_count": 15,
     "metadata": {},
     "output_type": "execute_result"
    }
   ],
   "source": [
    "users.head()"
   ]
  },
  {
   "cell_type": "code",
   "execution_count": 16,
   "metadata": {},
   "outputs": [
    {
     "name": "stdout",
     "output_type": "stream",
     "text": [
      "\n",
      "TEST:\n",
      "...\n",
      "                   |       MAE |      RMSE | Precision@10 | Recall@100 | Recall@500 | Train (s) | Test (s)\n",
      "------------------ + --------- + --------- + ------------ + ---------- + ---------- + --------- + --------\n",
      "UserKNN-Cosine     | 2584.6707 | 2957.4245 |       0.0161 |     0.2285 |     0.4097 |    0.3123 |   0.1954\n",
      "UserKNN-Cosine-MC  | 1332.5383 | 1709.3279 |       0.0097 |     0.2608 |     0.4806 |    0.0141 |   0.1109\n",
      "UserKNN-Pearson    | 1332.5383 | 1709.3279 |       0.0097 |     0.2608 |     0.4806 |    0.0147 |   0.1020\n",
      "UserKNN-Pearson-MC | 1332.5383 | 1709.3279 |       0.0097 |     0.2608 |     0.4806 |    0.0069 |   0.1080\n",
      "\n"
     ]
    }
   ],
   "source": [
    "def userknn_cornac(df:pd.DataFrame):\n",
    "\n",
    "  #df = df.astype({'userID':object, 'artistID':object})\n",
    "  records = df.to_records(index=False)\n",
    "  result = list(records)\n",
    "\n",
    "  K = 3  # number of nearest neighbors\n",
    "  VERBOSE = False\n",
    "  SEED = 42\n",
    "  uknn_cosine = UserKNN(k=K, similarity=\"cosine\", name=\"UserKNN-Cosine\", verbose=VERBOSE)\n",
    "  uknn_cosine_mc = UserKNN(k=K, similarity=\"cosine\", mean_centered=True, name=\"UserKNN-Cosine-MC\", verbose=VERBOSE)\n",
    "  uknn_pearson = UserKNN(k=K, similarity=\"pearson\", name=\"UserKNN-Pearson\", verbose=VERBOSE)\n",
    "  uknn_pearson_mc = UserKNN(k=K, similarity=\"pearson\", mean_centered=True, name=\"UserKNN-Pearson-MC\", verbose=VERBOSE)\n",
    "  \n",
    "  # Metrics\n",
    "  rec_100 = cornac.metrics.Recall(k=100)\n",
    "  rec_500 = cornac.metrics.Recall(k=500)\n",
    "  prec_10 = cornac.metrics.Precision(k=10)\n",
    "  rmse = cornac.metrics.RMSE()\n",
    "  mae = cornac.metrics.MAE()\n",
    "  \n",
    "  ratio_split = RatioSplit(result, test_size=0.1, seed=SEED, verbose=VERBOSE)\n",
    "  cornac.Experiment(eval_method=ratio_split,\n",
    "                    models=[uknn_cosine, uknn_cosine_mc, uknn_pearson, uknn_pearson_mc],\n",
    "                    metrics=[rec_100, rec_500, prec_10, rmse, mae],\n",
    "                    ).run()\n",
    "  \n",
    "  userknn_models = {'uknn_cosine': uknn_cosine, 'uknn_cosine_mc': uknn_cosine_mc,\n",
    "                'uknn_pearson': uknn_pearson, 'uknn_pearson_mc': uknn_pearson_mc}\n",
    "  \n",
    "  return userknn_models\n",
    "\n",
    "userknn_models = userknn_cornac(users)"
   ]
  },
  {
   "cell_type": "markdown",
   "metadata": {},
   "source": [
    "Nos quedamos con los resultados de RMSE y MAE que seremos capaz de reducir mucho en el sistema de recomendación implícito."
   ]
  },
  {
   "cell_type": "code",
   "execution_count": 17,
   "metadata": {},
   "outputs": [
    {
     "data": {
      "text/plain": [
       "[(1290, 0), (510, 1), (408, 2), (1004, 3), (38, 4)]"
      ]
     },
     "execution_count": 17,
     "metadata": {},
     "output_type": "execute_result"
    }
   ],
   "source": [
    "# Vemos que índice tiene asociado cada ID de usuario\n",
    "model = userknn_models.get('uknn_pearson')\n",
    "list(model.uid_map.items())[:5]"
   ]
  },
  {
   "cell_type": "code",
   "execution_count": 18,
   "metadata": {},
   "outputs": [
    {
     "data": {
      "text/html": [
       "<div>\n",
       "<style scoped>\n",
       "    .dataframe tbody tr th:only-of-type {\n",
       "        vertical-align: middle;\n",
       "    }\n",
       "\n",
       "    .dataframe tbody tr th {\n",
       "        vertical-align: top;\n",
       "    }\n",
       "\n",
       "    .dataframe thead th {\n",
       "        text-align: right;\n",
       "    }\n",
       "</style>\n",
       "<table border=\"1\" class=\"dataframe\">\n",
       "  <thead>\n",
       "    <tr style=\"text-align: right;\">\n",
       "      <th></th>\n",
       "      <th>name</th>\n",
       "      <th>weight</th>\n",
       "    </tr>\n",
       "  </thead>\n",
       "  <tbody>\n",
       "    <tr>\n",
       "      <th>0</th>\n",
       "      <td>Rihanna</td>\n",
       "      <td>26049.714025</td>\n",
       "    </tr>\n",
       "    <tr>\n",
       "      <th>1</th>\n",
       "      <td>Oasis</td>\n",
       "      <td>12945.155715</td>\n",
       "    </tr>\n",
       "    <tr>\n",
       "      <th>2</th>\n",
       "      <td>Depeche Mode</td>\n",
       "      <td>8028.155764</td>\n",
       "    </tr>\n",
       "    <tr>\n",
       "      <th>3</th>\n",
       "      <td>The Beatles</td>\n",
       "      <td>3417.155810</td>\n",
       "    </tr>\n",
       "    <tr>\n",
       "      <th>4</th>\n",
       "      <td>Muse</td>\n",
       "      <td>2474.155819</td>\n",
       "    </tr>\n",
       "  </tbody>\n",
       "</table>\n",
       "</div>"
      ],
      "text/plain": [
       "           name        weight\n",
       "0       Rihanna  26049.714025\n",
       "1         Oasis  12945.155715\n",
       "2  Depeche Mode   8028.155764\n",
       "3   The Beatles   3417.155810\n",
       "4          Muse   2474.155819"
      ]
     },
     "execution_count": 18,
     "metadata": {},
     "output_type": "execute_result"
    }
   ],
   "source": [
    "import pandas as pd\n",
    "def userRecomendations(UID, model, artists, TOPK=5):\n",
    "  results = []\n",
    "  prods = list(model.iid_map.keys())\n",
    "  ids = list(model.iid_map.values())\n",
    "  for i in range(len(model.iid_map)-1):\n",
    "      results.append((prods[i], model.score(model.uid_map[UID], ids[i])))\n",
    "  \n",
    "  results = sorted(results, key=lambda x: x[1], reverse=True)\n",
    "  \n",
    "  df = pd.DataFrame(results, columns=['productID', 'weight'])\n",
    "  return df.head(TOPK).merge(artists, left_on='productID', right_on='id')[['name', 'weight']]\n",
    "\n",
    "\n",
    "userRecomendations(1290, model, artists)\n",
    "# Al primer usuario del mapa parece gustarle Rihanna"
   ]
  },
  {
   "cell_type": "markdown",
   "metadata": {},
   "source": [
    "## Implicit"
   ]
  },
  {
   "cell_type": "code",
   "execution_count": 24,
   "metadata": {},
   "outputs": [
    {
     "name": "stdout",
     "output_type": "stream",
     "text": [
      "System version: 3.11.8 | packaged by Anaconda, Inc. | (main, Feb 26 2024, 21:34:05) [MSC v.1916 64 bit (AMD64)]\n",
      "Cornac version: 2.1\n",
      "Tensorflow version: 2.16.1\n"
     ]
    }
   ],
   "source": [
    "\n",
    "import sys\n",
    "import cornac\n",
    "from cornac.eval_methods import RatioSplit\n",
    "from cornac.models import WMF\n",
    "import tensorflow as tf\n",
    "\n",
    "print(f\"System version: {sys.version}\")\n",
    "print(f\"Cornac version: {cornac.__version__}\")\n",
    "print(f\"Tensorflow version: {tf.__version__}\")\n",
    "\n",
    "SEED = 42\n",
    "VERBOSE = False"
   ]
  },
  {
   "cell_type": "markdown",
   "metadata": {},
   "source": [
    "Vamos a llevar a cabo una optimización de los hiperparámetros que le vamos a pasar al modelo. El valor de *a* y *b* los mantendremos constantes en 1 y 0.01, mientras que para los demás hiperparámetros probaremos distintas combinaciones y evaluaremos los resultados"
   ]
  },
  {
   "cell_type": "code",
   "execution_count": 25,
   "metadata": {},
   "outputs": [],
   "source": [
    "param_grid = {\n",
    "    \"k\": [10, 20, 30, 40, 50],\n",
    "    \"learning_rate\": [0.001, 0.01, 0.1],\n",
    "    \"lambda_u\": [0.001, 0.01],\n",
    "    \"lambda_v\": [0.001, 0.01],\n",
    "}"
   ]
  },
  {
   "cell_type": "code",
   "execution_count": 26,
   "metadata": {},
   "outputs": [
    {
     "name": "stdout",
     "output_type": "stream",
     "text": [
      "WARNING:tensorflow:From C:\\Users\\Rocío\\AppData\\Roaming\\Python\\Python311\\site-packages\\cornac\\models\\wmf\\recom_wmf.py:158: The name tf.logging.set_verbosity is deprecated. Please use tf.compat.v1.logging.set_verbosity instead.\n",
      "\n",
      "\n",
      "TEST:\n",
      "...\n",
      "                                                               |      MAE |     RMSE | Train (s) | Test (s)\n",
      "-------------------------------------------------------------- + -------- + -------- + --------- + --------\n",
      "WMF(K=10, learning_rate=0.001, lambda_u=0.001, lambda_v=0.001) | 479.4458 | 726.2988 |    5.4052 |   0.0010\n",
      "WMF(K=10, learning_rate=0.001, lambda_u=0.001, lambda_v=0.01)  | 479.4458 | 726.2988 |    0.9128 |   0.0010\n",
      "WMF(K=10, learning_rate=0.001, lambda_u=0.01, lambda_v=0.001)  | 479.4458 | 726.2988 |    1.0250 |   0.0070\n",
      "WMF(K=10, learning_rate=0.001, lambda_u=0.01, lambda_v=0.01)   | 479.4458 | 726.2988 |    1.0509 |   0.0000\n",
      "WMF(K=10, learning_rate=0.01, lambda_u=0.001, lambda_v=0.001)  | 469.7939 | 717.0199 |    1.0711 |   0.0097\n",
      "WMF(K=10, learning_rate=0.01, lambda_u=0.001, lambda_v=0.01)   | 469.7939 | 717.0197 |    0.8691 |   0.0130\n",
      "WMF(K=10, learning_rate=0.01, lambda_u=0.01, lambda_v=0.001)   | 469.8264 | 717.0520 |    1.0389 |   0.0010\n",
      "WMF(K=10, learning_rate=0.01, lambda_u=0.01, lambda_v=0.01)    | 469.8255 | 717.0511 |    0.9123 |   0.0092\n",
      "WMF(K=10, learning_rate=0.1, lambda_u=0.001, lambda_v=0.001)   | 435.5204 | 672.7734 |    0.9452 |   0.0113\n",
      "WMF(K=10, learning_rate=0.1, lambda_u=0.001, lambda_v=0.01)    | 438.0040 | 675.7007 |    0.8673 |   0.0010\n",
      "WMF(K=10, learning_rate=0.1, lambda_u=0.01, lambda_v=0.001)    | 445.4221 | 682.6277 |    0.9369 |   0.0099\n",
      "WMF(K=10, learning_rate=0.1, lambda_u=0.01, lambda_v=0.01)     | 444.6005 | 681.0954 |    0.9998 |   0.0010\n",
      "WMF(K=20, learning_rate=0.001, lambda_u=0.001, lambda_v=0.001) | 479.4106 | 726.2703 |    0.9219 |   0.0116\n",
      "WMF(K=20, learning_rate=0.001, lambda_u=0.001, lambda_v=0.01)  | 479.4106 | 726.2703 |    0.9059 |   0.0124\n",
      "WMF(K=20, learning_rate=0.001, lambda_u=0.01, lambda_v=0.001)  | 479.4106 | 726.2704 |    0.8984 |   0.0000\n",
      "WMF(K=20, learning_rate=0.001, lambda_u=0.01, lambda_v=0.01)   | 479.4106 | 726.2704 |    0.9000 |   0.0010\n",
      "WMF(K=20, learning_rate=0.01, lambda_u=0.001, lambda_v=0.001)  | 468.6315 | 715.3939 |    0.9889 |   0.0109\n",
      "WMF(K=20, learning_rate=0.01, lambda_u=0.001, lambda_v=0.01)   | 468.6307 | 715.3940 |    1.0179 |   0.0010\n",
      "WMF(K=20, learning_rate=0.01, lambda_u=0.01, lambda_v=0.001)   | 468.6756 | 715.4587 |    1.5657 |   0.0333\n",
      "WMF(K=20, learning_rate=0.01, lambda_u=0.01, lambda_v=0.01)    | 468.6759 | 715.4584 |    1.8921 |   0.0054\n",
      "WMF(K=20, learning_rate=0.1, lambda_u=0.001, lambda_v=0.001)   | 456.0696 | 699.9759 |    1.6973 |   0.0178\n",
      "WMF(K=20, learning_rate=0.1, lambda_u=0.001, lambda_v=0.01)    | 452.8806 | 695.1951 |    1.7718 |   0.0133\n",
      "WMF(K=20, learning_rate=0.1, lambda_u=0.01, lambda_v=0.001)    | 451.5069 | 694.3850 |    1.7293 |   0.0274\n",
      "WMF(K=20, learning_rate=0.1, lambda_u=0.01, lambda_v=0.01)     | 452.8259 | 696.4189 |    1.6875 |   0.0256\n",
      "WMF(K=30, learning_rate=0.001, lambda_u=0.001, lambda_v=0.001) | 479.3507 | 726.2247 |    1.7363 |   0.0188\n",
      "WMF(K=30, learning_rate=0.001, lambda_u=0.001, lambda_v=0.01)  | 479.3507 | 726.2247 |    1.7505 |   0.0192\n",
      "WMF(K=30, learning_rate=0.001, lambda_u=0.01, lambda_v=0.001)  | 479.3508 | 726.2248 |    1.7821 |   0.0145\n",
      "WMF(K=30, learning_rate=0.001, lambda_u=0.01, lambda_v=0.01)   | 479.3508 | 726.2248 |    1.7675 |   0.0200\n",
      "WMF(K=30, learning_rate=0.01, lambda_u=0.001, lambda_v=0.001)  | 468.4174 | 712.1532 |    1.7626 |   0.0159\n",
      "WMF(K=30, learning_rate=0.01, lambda_u=0.001, lambda_v=0.01)   | 468.4239 | 712.1623 |    1.7166 |   0.0332\n",
      "WMF(K=30, learning_rate=0.01, lambda_u=0.01, lambda_v=0.001)   | 468.2667 | 711.9808 |    1.8549 |   0.0144\n",
      "WMF(K=30, learning_rate=0.01, lambda_u=0.01, lambda_v=0.01)    | 468.2883 | 712.0040 |    1.8284 |   0.0160\n",
      "WMF(K=30, learning_rate=0.1, lambda_u=0.001, lambda_v=0.001)   | 474.4885 | 718.8999 |    1.9036 |   0.0361\n",
      "WMF(K=30, learning_rate=0.1, lambda_u=0.001, lambda_v=0.01)    | 473.5127 | 719.6346 |    1.4345 |   0.0107\n",
      "WMF(K=30, learning_rate=0.1, lambda_u=0.01, lambda_v=0.001)    | 472.6050 | 716.8971 |    0.9944 |   0.0020\n",
      "WMF(K=30, learning_rate=0.1, lambda_u=0.01, lambda_v=0.01)     | 470.9741 | 717.3434 |    1.0142 |   0.0020\n",
      "WMF(K=40, learning_rate=0.001, lambda_u=0.001, lambda_v=0.001) | 479.2423 | 726.1281 |    1.0255 |   0.0075\n",
      "WMF(K=40, learning_rate=0.001, lambda_u=0.001, lambda_v=0.01)  | 479.2424 | 726.1281 |    1.0682 |   0.0010\n",
      "WMF(K=40, learning_rate=0.001, lambda_u=0.01, lambda_v=0.001)  | 479.2423 | 726.1280 |    1.0469 |   0.0010\n",
      "WMF(K=40, learning_rate=0.001, lambda_u=0.01, lambda_v=0.01)   | 479.2423 | 726.1281 |    1.0150 |   0.0000\n",
      "WMF(K=40, learning_rate=0.01, lambda_u=0.001, lambda_v=0.001)  | 468.7093 | 712.1721 |    0.9704 |   0.0117\n",
      "WMF(K=40, learning_rate=0.01, lambda_u=0.001, lambda_v=0.01)   | 468.7157 | 712.1837 |    0.9857 |   0.0130\n",
      "WMF(K=40, learning_rate=0.01, lambda_u=0.01, lambda_v=0.001)   | 468.6024 | 712.0480 |    1.0012 |   0.0090\n",
      "WMF(K=40, learning_rate=0.01, lambda_u=0.01, lambda_v=0.01)    | 468.6136 | 712.0661 |    0.9941 |   0.0137\n",
      "WMF(K=40, learning_rate=0.1, lambda_u=0.001, lambda_v=0.001)   | 465.7820 | 710.6850 |    0.9635 |   0.0000\n",
      "WMF(K=40, learning_rate=0.1, lambda_u=0.001, lambda_v=0.01)    | 469.1990 | 714.4778 |    1.0014 |   0.0135\n",
      "WMF(K=40, learning_rate=0.1, lambda_u=0.01, lambda_v=0.001)    | 469.5671 | 712.7821 |    1.1454 |   0.0052\n",
      "WMF(K=40, learning_rate=0.1, lambda_u=0.01, lambda_v=0.01)     | 469.2278 | 712.9487 |    1.0413 |   0.0096\n",
      "WMF(K=50, learning_rate=0.001, lambda_u=0.001, lambda_v=0.001) | 479.1038 | 726.0247 |    1.2296 |   0.0102\n",
      "WMF(K=50, learning_rate=0.001, lambda_u=0.001, lambda_v=0.01)  | 479.1038 | 726.0247 |    1.4643 |   0.0119\n",
      "WMF(K=50, learning_rate=0.001, lambda_u=0.01, lambda_v=0.001)  | 479.1038 | 726.0247 |    0.9858 |   0.0137\n",
      "WMF(K=50, learning_rate=0.001, lambda_u=0.01, lambda_v=0.01)   | 479.1038 | 726.0247 |    1.1080 |   0.0071\n",
      "WMF(K=50, learning_rate=0.01, lambda_u=0.001, lambda_v=0.001)  | 463.4195 | 706.3015 |    0.9674 |   0.0010\n",
      "WMF(K=50, learning_rate=0.01, lambda_u=0.001, lambda_v=0.01)   | 463.4484 | 706.3276 |    1.0191 |   0.0135\n",
      "WMF(K=50, learning_rate=0.01, lambda_u=0.01, lambda_v=0.001)   | 463.4567 | 706.3631 |    0.9742 |   0.0082\n",
      "WMF(K=50, learning_rate=0.01, lambda_u=0.01, lambda_v=0.01)    | 463.4389 | 706.3443 |    0.9897 |   0.0090\n",
      "WMF(K=50, learning_rate=0.1, lambda_u=0.001, lambda_v=0.001)   | 473.7049 | 718.6706 |    1.1184 |   0.0010\n",
      "WMF(K=50, learning_rate=0.1, lambda_u=0.001, lambda_v=0.01)    | 472.9823 | 716.6742 |    1.0994 |   0.0010\n",
      "WMF(K=50, learning_rate=0.1, lambda_u=0.01, lambda_v=0.001)    | 469.1577 | 714.5930 |    1.0358 |   0.0120\n",
      "WMF(K=50, learning_rate=0.1, lambda_u=0.01, lambda_v=0.01)     | 470.3198 | 714.4375 |    0.9820 |   0.0010\n",
      "\n"
     ]
    }
   ],
   "source": [
    "wmfs = []\n",
    "for k in param_grid[\"k\"]:\n",
    "      for learning_rate in param_grid[\"learning_rate\"]:\n",
    "          for lambda_u in param_grid[\"lambda_u\"]:\n",
    "            for lambda_v in param_grid[\"lambda_v\"]:\n",
    "                wmf = WMF(k=k, max_iter=100, learning_rate=learning_rate, lambda_u=lambda_u, lambda_v=lambda_v, verbose=VERBOSE, seed=SEED, name=f\"WMF(K={k}, learning_rate={learning_rate}, lambda_u={lambda_u}, lambda_v={lambda_v})\")\n",
    "                wmfs.append(wmf)\n",
    "\n",
    "eval_metrics = [\n",
    "  cornac.metrics.RMSE(), \n",
    "  cornac.metrics.MAE()\n",
    "]\n",
    "\n",
    "df = users.astype({'userID':object, 'artistID':object})\n",
    "records = df.to_records(index=False)\n",
    "result = list(records)\n",
    "\n",
    "rs = RatioSplit(result, test_size=0.2, seed=SEED, verbose=VERBOSE)\n",
    "\n",
    "cornac.Experiment(eval_method=rs, models=wmfs, metrics=eval_metrics).run()"
   ]
  },
  {
   "cell_type": "markdown",
   "metadata": {},
   "source": [
    "Aquí vemos una mejora clara respecto al sistema memory-based, reduciendo el RMSE aproximadamente a la mitad. Para escoger el mejor modelo, vemos que el mejor MAE coincide con el mejor RMSE (diferencias lineales vs cuadráticas) y escogemos ese. Tiene los parámetros: (K=10, learning_rate=0.1, lambda_u=0.001, lambda_v=0.001). Podemos reciclar la función de recomendación anterior para este caso."
   ]
  },
  {
   "cell_type": "code",
   "execution_count": 32,
   "metadata": {},
   "outputs": [
    {
     "name": "stdout",
     "output_type": "stream",
     "text": [
      "WMF(K=10, learning_rate=0.1, lambda_u=0.001, lambda_v=0.001)\n"
     ]
    },
    {
     "data": {
      "text/html": [
       "<div>\n",
       "<style scoped>\n",
       "    .dataframe tbody tr th:only-of-type {\n",
       "        vertical-align: middle;\n",
       "    }\n",
       "\n",
       "    .dataframe tbody tr th {\n",
       "        vertical-align: top;\n",
       "    }\n",
       "\n",
       "    .dataframe thead th {\n",
       "        text-align: right;\n",
       "    }\n",
       "</style>\n",
       "<table border=\"1\" class=\"dataframe\">\n",
       "  <thead>\n",
       "    <tr style=\"text-align: right;\">\n",
       "      <th></th>\n",
       "      <th>name</th>\n",
       "      <th>weight</th>\n",
       "    </tr>\n",
       "  </thead>\n",
       "  <tbody>\n",
       "    <tr>\n",
       "      <th>0</th>\n",
       "      <td>Britney Spears</td>\n",
       "      <td>799.830200</td>\n",
       "    </tr>\n",
       "    <tr>\n",
       "      <th>1</th>\n",
       "      <td>Rihanna</td>\n",
       "      <td>776.881042</td>\n",
       "    </tr>\n",
       "    <tr>\n",
       "      <th>2</th>\n",
       "      <td>Lady Gaga</td>\n",
       "      <td>655.595642</td>\n",
       "    </tr>\n",
       "    <tr>\n",
       "      <th>3</th>\n",
       "      <td>Katy Perry</td>\n",
       "      <td>577.198975</td>\n",
       "    </tr>\n",
       "    <tr>\n",
       "      <th>4</th>\n",
       "      <td>Vanessa Hudgens</td>\n",
       "      <td>558.816833</td>\n",
       "    </tr>\n",
       "  </tbody>\n",
       "</table>\n",
       "</div>"
      ],
      "text/plain": [
       "              name      weight\n",
       "0   Britney Spears  799.830200\n",
       "1          Rihanna  776.881042\n",
       "2        Lady Gaga  655.595642\n",
       "3       Katy Perry  577.198975\n",
       "4  Vanessa Hudgens  558.816833"
      ]
     },
     "execution_count": 32,
     "metadata": {},
     "output_type": "execute_result"
    }
   ],
   "source": [
    "model = wmfs[8]\n",
    "print(model.name)\n",
    "userRecomendations(701, model, artists)\n",
    "# A este usuario le recomienda Britney Spears, poco sorprendente dada su dominancia en los datos"
   ]
  }
 ],
 "metadata": {
  "kernelspec": {
   "display_name": "envml3",
   "language": "python",
   "name": "python3"
  },
  "language_info": {
   "codemirror_mode": {
    "name": "ipython",
    "version": 3
   },
   "file_extension": ".py",
   "mimetype": "text/x-python",
   "name": "python",
   "nbconvert_exporter": "python",
   "pygments_lexer": "ipython3",
   "version": "3.11.8"
  }
 },
 "nbformat": 4,
 "nbformat_minor": 2
}
